{
 "cells": [
  {
   "attachments": {},
   "cell_type": "markdown",
   "metadata": {},
   "source": [
    "# Introduction to face recognition"
   ]
  },
  {
   "attachments": {},
   "cell_type": "markdown",
   "metadata": {},
   "source": [
    "A facial recognition system is a technology capable of identifying or verifying a person from a digital image or a video frame from video. It's typically used as access control in security systems and can be compared to other biometrics such as fingerprint or eye iris recognition system.\n",
    "\n",
    "Face recognition basically involves 4 steps:\n",
    "\n",
    "* <font color = '#FB1405'>Face detection:</font> Is the process of automatically locating human faces in visual media. For this, the image can be searched for landmarks such as the eyes and nose.\n",
    "* <font color = '#FB1405'>Face alignment:</font> It is often used as a pre-processing step. It includes the automatic detection of the face and eye region and align fae based on translation, scale, and rotation.\n",
    "* <font color = '#FB1405'> Feature extraction:</font> Pass the detected and pre-processed face into a pre-trained face recognizer that is capable of producing 128-d embeddings.\n",
    "* <font color = '#FB1405'> Face recognition:</font> Find the person in the database of known people who has the closest measurements to the test image.\n",
    "\n",
    "\n",
    "\n",
    "<div style=\"text-align:center\">\n",
    "    <p style=\"font-size:medium; margin: 0.1;\">Figure 1: Face recognition pipeline</p>\n",
    "    <img src=\"../Images/Notes/Face%20recognition%20pipeline.PNG\" alt=\"Descripción de la imagen\">\n",
    "    <p style=\"font-size:small; margin: 0;\">Note: image taken from Li & Jain, 2011.</p>\n",
    "</div>"
   ]
  },
  {
   "attachments": {},
   "cell_type": "markdown",
   "metadata": {},
   "source": [
    "## Libraries"
   ]
  },
  {
   "cell_type": "code",
   "execution_count": 2,
   "metadata": {},
   "outputs": [
    {
     "name": "stdout",
     "output_type": "stream",
     "text": [
      "dlib version is 19.24.2\n",
      "cv2 version is 4.8.1\n",
      "face_recognition version is 1.2.3\n"
     ]
    }
   ],
   "source": [
    "import dlib\n",
    "import cv2\n",
    "import face_recognition\n",
    "\n",
    "print(\"dlib version is\",dlib.__version__)\n",
    "print(\"cv2 version is\",cv2.__version__)\n",
    "print(\"face_recognition version is\",face_recognition.__version__)"
   ]
  },
  {
   "cell_type": "code",
   "execution_count": 13,
   "metadata": {},
   "outputs": [],
   "source": [
    "image_test = cv2.imread(\"../Images/Testing/trump-modi.jpg\")\n",
    "cv2.imshow(\"Image\", image_test)\n",
    "cv2.waitKey(0)\n",
    "cv2.destroyAllWindows()"
   ]
  }
 ],
 "metadata": {
  "kernelspec": {
   "display_name": "ComputerVision",
   "language": "python",
   "name": "python3"
  },
  "language_info": {
   "codemirror_mode": {
    "name": "ipython",
    "version": 3
   },
   "file_extension": ".py",
   "mimetype": "text/x-python",
   "name": "python",
   "nbconvert_exporter": "python",
   "pygments_lexer": "ipython3",
   "version": "3.10.10"
  },
  "orig_nbformat": 4
 },
 "nbformat": 4,
 "nbformat_minor": 2
}
