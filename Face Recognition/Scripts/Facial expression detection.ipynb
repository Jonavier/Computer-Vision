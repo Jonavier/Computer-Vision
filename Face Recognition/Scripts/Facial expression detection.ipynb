{
 "cells": [
  {
   "attachments": {},
   "cell_type": "markdown",
   "metadata": {},
   "source": [
    "# Facial expression detection"
   ]
  },
  {
   "attachments": {},
   "cell_type": "markdown",
   "metadata": {},
   "source": [
    "## Implementation"
   ]
  },
  {
   "attachments": {},
   "cell_type": "markdown",
   "metadata": {},
   "source": [
    "#### Import libraries"
   ]
  },
  {
   "cell_type": "code",
   "execution_count": 4,
   "metadata": {},
   "outputs": [],
   "source": [
    "import numpy as np\n",
    "import cv2\n",
    "import tensorflow\n",
    "import face_recognition\n",
    "\n",
    "from tensorflow.keras.preprocessing import image\n",
    "from tensorflow.keras.models import model_from_json"
   ]
  },
  {
   "attachments": {},
   "cell_type": "markdown",
   "metadata": {},
   "source": [
    "### Video from real time webcam"
   ]
  },
  {
   "cell_type": "code",
   "execution_count": null,
   "metadata": {},
   "outputs": [],
   "source": [
    "# Capture the video from default camera\n",
    "webcam_video_stream = cv2.VideoCapture(0)\n",
    "\n",
    "# Face expression model initialization\n",
    "face_exp_model = model_from_json(open(\"./Face Recognition/Models/Facial expression model/facial_expression_model_structure.json\", \"r\").read())\n",
    "# Load weights into model\n",
    "face_exp_model.load_weights(\"./Face Recognition/Models/Facial expression model/facial_expression_model_weights.h5\")\n",
    "# List of emotions labels\n",
    "emotions_label = (\"angry\", \"disgust\", \"fear\", \"happy\", \"sad\", \"surprise\", \"neutral\")\n",
    "\n",
    "# Initialize empty array for face locations\n",
    "all_face_locations = []\n",
    "\n",
    "# Loop through every frame in the video\n",
    "while True:\n",
    "    # Get the current frame from the video stream as an image\n",
    "    ret, current_frame = webcam_video_stream.read()\n",
    "    # Resize the current frame to 1/4 size to proces faster\n",
    "    current_frame_small = cv2.resize(current_frame, (0, 0), fx = 0.25, fy = 0.25)\n",
    "    # Detect all faces in the image\n",
    "    all_face_locations = face_recognition.face_locations(current_frame_small, 2, model = \"hog\")\n",
    "\n",
    "    # Looping through the face locations\n",
    "    for index, current_face_location in enumerate(all_face_locations):\n",
    "        top_position, right_position, bottom_position, left_position = current_face_location\n",
    "        # Change the position magnitude to fit the actual size video frame\n",
    "        top_position = top_position * 4\n",
    "        right_position = right_position * 4\n",
    "        bottom_position = bottom_position * 4\n",
    "        left_position = left_position * 4\n",
    "        # Printing the location of current face\n",
    "        print(\"Found face {} at top: {}, right: {}, bottom: {}, left: {}\".format(index + 1, top_position, right_position, bottom_position, left_position))\n",
    "        # Extract the face from the frame, blur it, paste it back to the frame slicing the current face from main image\n",
    "        current_face_image = current_frame[top_position:bottom_position, left_position:right_position]      \n",
    "        # Draw rectangle around the face detected\n",
    "        cv2.rectangle(current_frame, (left_position, top_position), (right_position, bottom_position), (0, 0, 255), 2)\n",
    "\n",
    "        # Preprocess input, convert it to an image like as the data in dataset\n",
    "        # Convert to grayscale\n",
    "        current_face_image = cv2.cvtColor(current_face_image, cv2.COLOR_BGR2GRAY)\n",
    "        # Resize to 48 x 48 px size\n",
    "        current_face_image = cv2.resize(current_face_image, (48, 48))\n",
    "        # Convert the PIL image into a 3d numpy array\n",
    "        img_pixels = image.img_to_array(current_face_image)\n",
    "        # Expand the shape of an array into single row multiple columns\n",
    "        img_pixels = np.expand_dims(img_pixels, axis = 0)\n",
    "        # Pixels are in rage of [0, 255]. Normalize all pixels in scale of [0, 1]\n",
    "        img_pixels /= 255\n",
    "        # Do prediction using model, get the prediction values for all 7 expressions\n",
    "        exp_predictions = face_exp_model.predict(img_pixels)\n",
    "        # Find max indexed prediction value (0 till 7)\n",
    "        max_index = np.argmax(exp_predictions[0])\n",
    "        # Get corresponding labels from emotions_labels\n",
    "        emotion_label = emotions_label[max_index]\n",
    "        # Display the name as text in the image\n",
    "        font = cv2.FONT_HERSHEY_DUPLEX\n",
    "        cv2.putText(current_frame, emotion_label, (left_position, bottom_position), font, 0.5, (255,255,255),1)\n",
    "\n",
    "    # Showing the current fae with rectangle drawn\n",
    "    cv2.imshow(\"Webcam Video\", current_frame)\n",
    "    \n",
    "    if cv2.waitKey(1) & 0xFF == ord('q'):\n",
    "        break\n",
    "\n",
    "webcam_video_stream.release()\n",
    "cv2.destroyAllWindows() "
   ]
  }
 ],
 "metadata": {
  "kernelspec": {
   "display_name": "ComputerVision",
   "language": "python",
   "name": "python3"
  },
  "language_info": {
   "codemirror_mode": {
    "name": "ipython",
    "version": 3
   },
   "file_extension": ".py",
   "mimetype": "text/x-python",
   "name": "python",
   "nbconvert_exporter": "python",
   "pygments_lexer": "ipython3",
   "version": "3.10.10"
  },
  "orig_nbformat": 4
 },
 "nbformat": 4,
 "nbformat_minor": 2
}
